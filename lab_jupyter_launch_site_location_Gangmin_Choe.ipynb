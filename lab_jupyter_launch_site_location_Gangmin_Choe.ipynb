{
  "cells": [
    {
      "cell_type": "markdown",
      "source": [
        "### Hello! Thank you for reviewing my project! Hope you have a gooood time!"
      ],
      "metadata": {
        "id": "gAImzbkbZnQZ"
      }
    },
    {
      "cell_type": "markdown",
      "source": [
        "# 0. Import libraries and Boston dataset"
      ],
      "metadata": {
        "id": "tUM9Z2wqZ0qY"
      }
    },
    {
      "cell_type": "code",
      "source": [
        "import pandas as pd\n",
        "import seaborn as sns\n",
        "import matplotlib.pyplot as plt\n",
        "import numpy as np\n",
        "import scipy.stats\n",
        "import statsmodels.api as sm"
      ],
      "metadata": {
        "id": "VPki5Kw6ZQZk"
      },
      "execution_count": 9,
      "outputs": []
    },
    {
      "cell_type": "code",
      "source": [
        "boston_url = 'https://cf-courses-data.s3.us.cloud-object-storage.appdomain.cloud/IBMDeveloperSkillsNetwork-ST0151EN-SkillsNetwork/labs/boston_housing.csv'\n",
        "boston=pd.read_csv(boston_url)"
      ],
      "metadata": {
        "id": "6a5iCnaPZQdV"
      },
      "execution_count": 10,
      "outputs": []
    },
    {
      "cell_type": "markdown",
      "source": [
        "### By using describe() function in pandas, we can check basic statistics of the dataset"
      ],
      "metadata": {
        "id": "eT0UqsqLaJla"
      }
    },
    {
      "cell_type": "code",
      "source": [
        "boston.describe()"
      ],
      "metadata": {
        "colab": {
          "base_uri": "https://localhost:8080/",
          "height": 300
        },
        "id": "lJcrKBsnZW6q",
        "outputId": "73a32453-b93d-406e-9b22-88e506d4289e"
      },
      "execution_count": 11,
      "outputs": [
        {
          "output_type": "execute_result",
          "data": {
            "text/plain": [
              "       Unnamed: 0        CRIM          ZN       INDUS        CHAS         NOX  \\\n",
              "count  506.000000  506.000000  506.000000  506.000000  506.000000  506.000000   \n",
              "mean   252.500000    3.613524   11.363636   11.136779    0.069170    0.554695   \n",
              "std    146.213884    8.601545   23.322453    6.860353    0.253994    0.115878   \n",
              "min      0.000000    0.006320    0.000000    0.460000    0.000000    0.385000   \n",
              "25%    126.250000    0.082045    0.000000    5.190000    0.000000    0.449000   \n",
              "50%    252.500000    0.256510    0.000000    9.690000    0.000000    0.538000   \n",
              "75%    378.750000    3.677083   12.500000   18.100000    0.000000    0.624000   \n",
              "max    505.000000   88.976200  100.000000   27.740000    1.000000    0.871000   \n",
              "\n",
              "               RM         AGE         DIS         RAD         TAX     PTRATIO  \\\n",
              "count  506.000000  506.000000  506.000000  506.000000  506.000000  506.000000   \n",
              "mean     6.284634   68.574901    3.795043    9.549407  408.237154   18.455534   \n",
              "std      0.702617   28.148861    2.105710    8.707259  168.537116    2.164946   \n",
              "min      3.561000    2.900000    1.129600    1.000000  187.000000   12.600000   \n",
              "25%      5.885500   45.025000    2.100175    4.000000  279.000000   17.400000   \n",
              "50%      6.208500   77.500000    3.207450    5.000000  330.000000   19.050000   \n",
              "75%      6.623500   94.075000    5.188425   24.000000  666.000000   20.200000   \n",
              "max      8.780000  100.000000   12.126500   24.000000  711.000000   22.000000   \n",
              "\n",
              "            LSTAT        MEDV  \n",
              "count  506.000000  506.000000  \n",
              "mean    12.653063   22.532806  \n",
              "std      7.141062    9.197104  \n",
              "min      1.730000    5.000000  \n",
              "25%      6.950000   17.025000  \n",
              "50%     11.360000   21.200000  \n",
              "75%     16.955000   25.000000  \n",
              "max     37.970000   50.000000  "
            ],
            "text/html": [
              "\n",
              "  <div id=\"df-be500ba3-4b8e-4326-85c3-d067ffd776af\">\n",
              "    <div class=\"colab-df-container\">\n",
              "      <div>\n",
              "<style scoped>\n",
              "    .dataframe tbody tr th:only-of-type {\n",
              "        vertical-align: middle;\n",
              "    }\n",
              "\n",
              "    .dataframe tbody tr th {\n",
              "        vertical-align: top;\n",
              "    }\n",
              "\n",
              "    .dataframe thead th {\n",
              "        text-align: right;\n",
              "    }\n",
              "</style>\n",
              "<table border=\"1\" class=\"dataframe\">\n",
              "  <thead>\n",
              "    <tr style=\"text-align: right;\">\n",
              "      <th></th>\n",
              "      <th>Unnamed: 0</th>\n",
              "      <th>CRIM</th>\n",
              "      <th>ZN</th>\n",
              "      <th>INDUS</th>\n",
              "      <th>CHAS</th>\n",
              "      <th>NOX</th>\n",
              "      <th>RM</th>\n",
              "      <th>AGE</th>\n",
              "      <th>DIS</th>\n",
              "      <th>RAD</th>\n",
              "      <th>TAX</th>\n",
              "      <th>PTRATIO</th>\n",
              "      <th>LSTAT</th>\n",
              "      <th>MEDV</th>\n",
              "    </tr>\n",
              "  </thead>\n",
              "  <tbody>\n",
              "    <tr>\n",
              "      <th>count</th>\n",
              "      <td>506.000000</td>\n",
              "      <td>506.000000</td>\n",
              "      <td>506.000000</td>\n",
              "      <td>506.000000</td>\n",
              "      <td>506.000000</td>\n",
              "      <td>506.000000</td>\n",
              "      <td>506.000000</td>\n",
              "      <td>506.000000</td>\n",
              "      <td>506.000000</td>\n",
              "      <td>506.000000</td>\n",
              "      <td>506.000000</td>\n",
              "      <td>506.000000</td>\n",
              "      <td>506.000000</td>\n",
              "      <td>506.000000</td>\n",
              "    </tr>\n",
              "    <tr>\n",
              "      <th>mean</th>\n",
              "      <td>252.500000</td>\n",
              "      <td>3.613524</td>\n",
              "      <td>11.363636</td>\n",
              "      <td>11.136779</td>\n",
              "      <td>0.069170</td>\n",
              "      <td>0.554695</td>\n",
              "      <td>6.284634</td>\n",
              "      <td>68.574901</td>\n",
              "      <td>3.795043</td>\n",
              "      <td>9.549407</td>\n",
              "      <td>408.237154</td>\n",
              "      <td>18.455534</td>\n",
              "      <td>12.653063</td>\n",
              "      <td>22.532806</td>\n",
              "    </tr>\n",
              "    <tr>\n",
              "      <th>std</th>\n",
              "      <td>146.213884</td>\n",
              "      <td>8.601545</td>\n",
              "      <td>23.322453</td>\n",
              "      <td>6.860353</td>\n",
              "      <td>0.253994</td>\n",
              "      <td>0.115878</td>\n",
              "      <td>0.702617</td>\n",
              "      <td>28.148861</td>\n",
              "      <td>2.105710</td>\n",
              "      <td>8.707259</td>\n",
              "      <td>168.537116</td>\n",
              "      <td>2.164946</td>\n",
              "      <td>7.141062</td>\n",
              "      <td>9.197104</td>\n",
              "    </tr>\n",
              "    <tr>\n",
              "      <th>min</th>\n",
              "      <td>0.000000</td>\n",
              "      <td>0.006320</td>\n",
              "      <td>0.000000</td>\n",
              "      <td>0.460000</td>\n",
              "      <td>0.000000</td>\n",
              "      <td>0.385000</td>\n",
              "      <td>3.561000</td>\n",
              "      <td>2.900000</td>\n",
              "      <td>1.129600</td>\n",
              "      <td>1.000000</td>\n",
              "      <td>187.000000</td>\n",
              "      <td>12.600000</td>\n",
              "      <td>1.730000</td>\n",
              "      <td>5.000000</td>\n",
              "    </tr>\n",
              "    <tr>\n",
              "      <th>25%</th>\n",
              "      <td>126.250000</td>\n",
              "      <td>0.082045</td>\n",
              "      <td>0.000000</td>\n",
              "      <td>5.190000</td>\n",
              "      <td>0.000000</td>\n",
              "      <td>0.449000</td>\n",
              "      <td>5.885500</td>\n",
              "      <td>45.025000</td>\n",
              "      <td>2.100175</td>\n",
              "      <td>4.000000</td>\n",
              "      <td>279.000000</td>\n",
              "      <td>17.400000</td>\n",
              "      <td>6.950000</td>\n",
              "      <td>17.025000</td>\n",
              "    </tr>\n",
              "    <tr>\n",
              "      <th>50%</th>\n",
              "      <td>252.500000</td>\n",
              "      <td>0.256510</td>\n",
              "      <td>0.000000</td>\n",
              "      <td>9.690000</td>\n",
              "      <td>0.000000</td>\n",
              "      <td>0.538000</td>\n",
              "      <td>6.208500</td>\n",
              "      <td>77.500000</td>\n",
              "      <td>3.207450</td>\n",
              "      <td>5.000000</td>\n",
              "      <td>330.000000</td>\n",
              "      <td>19.050000</td>\n",
              "      <td>11.360000</td>\n",
              "      <td>21.200000</td>\n",
              "    </tr>\n",
              "    <tr>\n",
              "      <th>75%</th>\n",
              "      <td>378.750000</td>\n",
              "      <td>3.677083</td>\n",
              "      <td>12.500000</td>\n",
              "      <td>18.100000</td>\n",
              "      <td>0.000000</td>\n",
              "      <td>0.624000</td>\n",
              "      <td>6.623500</td>\n",
              "      <td>94.075000</td>\n",
              "      <td>5.188425</td>\n",
              "      <td>24.000000</td>\n",
              "      <td>666.000000</td>\n",
              "      <td>20.200000</td>\n",
              "      <td>16.955000</td>\n",
              "      <td>25.000000</td>\n",
              "    </tr>\n",
              "    <tr>\n",
              "      <th>max</th>\n",
              "      <td>505.000000</td>\n",
              "      <td>88.976200</td>\n",
              "      <td>100.000000</td>\n",
              "      <td>27.740000</td>\n",
              "      <td>1.000000</td>\n",
              "      <td>0.871000</td>\n",
              "      <td>8.780000</td>\n",
              "      <td>100.000000</td>\n",
              "      <td>12.126500</td>\n",
              "      <td>24.000000</td>\n",
              "      <td>711.000000</td>\n",
              "      <td>22.000000</td>\n",
              "      <td>37.970000</td>\n",
              "      <td>50.000000</td>\n",
              "    </tr>\n",
              "  </tbody>\n",
              "</table>\n",
              "</div>\n",
              "      <button class=\"colab-df-convert\" onclick=\"convertToInteractive('df-be500ba3-4b8e-4326-85c3-d067ffd776af')\"\n",
              "              title=\"Convert this dataframe to an interactive table.\"\n",
              "              style=\"display:none;\">\n",
              "        \n",
              "  <svg xmlns=\"http://www.w3.org/2000/svg\" height=\"24px\"viewBox=\"0 0 24 24\"\n",
              "       width=\"24px\">\n",
              "    <path d=\"M0 0h24v24H0V0z\" fill=\"none\"/>\n",
              "    <path d=\"M18.56 5.44l.94 2.06.94-2.06 2.06-.94-2.06-.94-.94-2.06-.94 2.06-2.06.94zm-11 1L8.5 8.5l.94-2.06 2.06-.94-2.06-.94L8.5 2.5l-.94 2.06-2.06.94zm10 10l.94 2.06.94-2.06 2.06-.94-2.06-.94-.94-2.06-.94 2.06-2.06.94z\"/><path d=\"M17.41 7.96l-1.37-1.37c-.4-.4-.92-.59-1.43-.59-.52 0-1.04.2-1.43.59L10.3 9.45l-7.72 7.72c-.78.78-.78 2.05 0 2.83L4 21.41c.39.39.9.59 1.41.59.51 0 1.02-.2 1.41-.59l7.78-7.78 2.81-2.81c.8-.78.8-2.07 0-2.86zM5.41 20L4 18.59l7.72-7.72 1.47 1.35L5.41 20z\"/>\n",
              "  </svg>\n",
              "      </button>\n",
              "      \n",
              "  <style>\n",
              "    .colab-df-container {\n",
              "      display:flex;\n",
              "      flex-wrap:wrap;\n",
              "      gap: 12px;\n",
              "    }\n",
              "\n",
              "    .colab-df-convert {\n",
              "      background-color: #E8F0FE;\n",
              "      border: none;\n",
              "      border-radius: 50%;\n",
              "      cursor: pointer;\n",
              "      display: none;\n",
              "      fill: #1967D2;\n",
              "      height: 32px;\n",
              "      padding: 0 0 0 0;\n",
              "      width: 32px;\n",
              "    }\n",
              "\n",
              "    .colab-df-convert:hover {\n",
              "      background-color: #E2EBFA;\n",
              "      box-shadow: 0px 1px 2px rgba(60, 64, 67, 0.3), 0px 1px 3px 1px rgba(60, 64, 67, 0.15);\n",
              "      fill: #174EA6;\n",
              "    }\n",
              "\n",
              "    [theme=dark] .colab-df-convert {\n",
              "      background-color: #3B4455;\n",
              "      fill: #D2E3FC;\n",
              "    }\n",
              "\n",
              "    [theme=dark] .colab-df-convert:hover {\n",
              "      background-color: #434B5C;\n",
              "      box-shadow: 0px 1px 3px 1px rgba(0, 0, 0, 0.15);\n",
              "      filter: drop-shadow(0px 1px 2px rgba(0, 0, 0, 0.3));\n",
              "      fill: #FFFFFF;\n",
              "    }\n",
              "  </style>\n",
              "\n",
              "      <script>\n",
              "        const buttonEl =\n",
              "          document.querySelector('#df-be500ba3-4b8e-4326-85c3-d067ffd776af button.colab-df-convert');\n",
              "        buttonEl.style.display =\n",
              "          google.colab.kernel.accessAllowed ? 'block' : 'none';\n",
              "\n",
              "        async function convertToInteractive(key) {\n",
              "          const element = document.querySelector('#df-be500ba3-4b8e-4326-85c3-d067ffd776af');\n",
              "          const dataTable =\n",
              "            await google.colab.kernel.invokeFunction('convertToInteractive',\n",
              "                                                     [key], {});\n",
              "          if (!dataTable) return;\n",
              "\n",
              "          const docLinkHtml = 'Like what you see? Visit the ' +\n",
              "            '<a target=\"_blank\" href=https://colab.research.google.com/notebooks/data_table.ipynb>data table notebook</a>'\n",
              "            + ' to learn more about interactive tables.';\n",
              "          element.innerHTML = '';\n",
              "          dataTable['output_type'] = 'display_data';\n",
              "          await google.colab.output.renderOutput(dataTable, element);\n",
              "          const docLink = document.createElement('div');\n",
              "          docLink.innerHTML = docLinkHtml;\n",
              "          element.appendChild(docLink);\n",
              "        }\n",
              "      </script>\n",
              "    </div>\n",
              "  </div>\n",
              "  "
            ]
          },
          "metadata": {},
          "execution_count": 11
        }
      ]
    },
    {
      "cell_type": "markdown",
      "source": [
        "### By using info() function in pandas, we can check non-null counts of each columns and type of data"
      ],
      "metadata": {
        "id": "NiTEdzaHaaaL"
      }
    },
    {
      "cell_type": "code",
      "source": [
        "boston.info()"
      ],
      "metadata": {
        "colab": {
          "base_uri": "https://localhost:8080/"
        },
        "id": "PNtccBeXZbHa",
        "outputId": "5f9fcd50-b7f7-4650-bd60-421512788d1b"
      },
      "execution_count": 12,
      "outputs": [
        {
          "output_type": "stream",
          "name": "stdout",
          "text": [
            "<class 'pandas.core.frame.DataFrame'>\n",
            "RangeIndex: 506 entries, 0 to 505\n",
            "Data columns (total 14 columns):\n",
            " #   Column      Non-Null Count  Dtype  \n",
            "---  ------      --------------  -----  \n",
            " 0   Unnamed: 0  506 non-null    int64  \n",
            " 1   CRIM        506 non-null    float64\n",
            " 2   ZN          506 non-null    float64\n",
            " 3   INDUS       506 non-null    float64\n",
            " 4   CHAS        506 non-null    float64\n",
            " 5   NOX         506 non-null    float64\n",
            " 6   RM          506 non-null    float64\n",
            " 7   AGE         506 non-null    float64\n",
            " 8   DIS         506 non-null    float64\n",
            " 9   RAD         506 non-null    float64\n",
            " 10  TAX         506 non-null    float64\n",
            " 11  PTRATIO     506 non-null    float64\n",
            " 12  LSTAT       506 non-null    float64\n",
            " 13  MEDV        506 non-null    float64\n",
            "dtypes: float64(13), int64(1)\n",
            "memory usage: 55.5 KB\n"
          ]
        }
      ]
    },
    {
      "cell_type": "markdown",
      "source": [
        "### If you want to see first 5 rows, then you can used head() function in pandas"
      ],
      "metadata": {
        "id": "TANAKIw2av-d"
      }
    },
    {
      "cell_type": "code",
      "source": [
        "boston.head()"
      ],
      "metadata": {
        "colab": {
          "base_uri": "https://localhost:8080/",
          "height": 206
        },
        "id": "52YyLOr1Zc9V",
        "outputId": "2d7e91ee-36fc-49d8-dd34-bb214e0f361d"
      },
      "execution_count": 13,
      "outputs": [
        {
          "output_type": "execute_result",
          "data": {
            "text/plain": [
              "   Unnamed: 0     CRIM    ZN  INDUS  CHAS    NOX     RM   AGE     DIS  RAD  \\\n",
              "0           0  0.00632  18.0   2.31   0.0  0.538  6.575  65.2  4.0900  1.0   \n",
              "1           1  0.02731   0.0   7.07   0.0  0.469  6.421  78.9  4.9671  2.0   \n",
              "2           2  0.02729   0.0   7.07   0.0  0.469  7.185  61.1  4.9671  2.0   \n",
              "3           3  0.03237   0.0   2.18   0.0  0.458  6.998  45.8  6.0622  3.0   \n",
              "4           4  0.06905   0.0   2.18   0.0  0.458  7.147  54.2  6.0622  3.0   \n",
              "\n",
              "     TAX  PTRATIO  LSTAT  MEDV  \n",
              "0  296.0     15.3   4.98  24.0  \n",
              "1  242.0     17.8   9.14  21.6  \n",
              "2  242.0     17.8   4.03  34.7  \n",
              "3  222.0     18.7   2.94  33.4  \n",
              "4  222.0     18.7   5.33  36.2  "
            ],
            "text/html": [
              "\n",
              "  <div id=\"df-3f0b0ad5-88d0-4fd6-91df-e97813dbb52e\">\n",
              "    <div class=\"colab-df-container\">\n",
              "      <div>\n",
              "<style scoped>\n",
              "    .dataframe tbody tr th:only-of-type {\n",
              "        vertical-align: middle;\n",
              "    }\n",
              "\n",
              "    .dataframe tbody tr th {\n",
              "        vertical-align: top;\n",
              "    }\n",
              "\n",
              "    .dataframe thead th {\n",
              "        text-align: right;\n",
              "    }\n",
              "</style>\n",
              "<table border=\"1\" class=\"dataframe\">\n",
              "  <thead>\n",
              "    <tr style=\"text-align: right;\">\n",
              "      <th></th>\n",
              "      <th>Unnamed: 0</th>\n",
              "      <th>CRIM</th>\n",
              "      <th>ZN</th>\n",
              "      <th>INDUS</th>\n",
              "      <th>CHAS</th>\n",
              "      <th>NOX</th>\n",
              "      <th>RM</th>\n",
              "      <th>AGE</th>\n",
              "      <th>DIS</th>\n",
              "      <th>RAD</th>\n",
              "      <th>TAX</th>\n",
              "      <th>PTRATIO</th>\n",
              "      <th>LSTAT</th>\n",
              "      <th>MEDV</th>\n",
              "    </tr>\n",
              "  </thead>\n",
              "  <tbody>\n",
              "    <tr>\n",
              "      <th>0</th>\n",
              "      <td>0</td>\n",
              "      <td>0.00632</td>\n",
              "      <td>18.0</td>\n",
              "      <td>2.31</td>\n",
              "      <td>0.0</td>\n",
              "      <td>0.538</td>\n",
              "      <td>6.575</td>\n",
              "      <td>65.2</td>\n",
              "      <td>4.0900</td>\n",
              "      <td>1.0</td>\n",
              "      <td>296.0</td>\n",
              "      <td>15.3</td>\n",
              "      <td>4.98</td>\n",
              "      <td>24.0</td>\n",
              "    </tr>\n",
              "    <tr>\n",
              "      <th>1</th>\n",
              "      <td>1</td>\n",
              "      <td>0.02731</td>\n",
              "      <td>0.0</td>\n",
              "      <td>7.07</td>\n",
              "      <td>0.0</td>\n",
              "      <td>0.469</td>\n",
              "      <td>6.421</td>\n",
              "      <td>78.9</td>\n",
              "      <td>4.9671</td>\n",
              "      <td>2.0</td>\n",
              "      <td>242.0</td>\n",
              "      <td>17.8</td>\n",
              "      <td>9.14</td>\n",
              "      <td>21.6</td>\n",
              "    </tr>\n",
              "    <tr>\n",
              "      <th>2</th>\n",
              "      <td>2</td>\n",
              "      <td>0.02729</td>\n",
              "      <td>0.0</td>\n",
              "      <td>7.07</td>\n",
              "      <td>0.0</td>\n",
              "      <td>0.469</td>\n",
              "      <td>7.185</td>\n",
              "      <td>61.1</td>\n",
              "      <td>4.9671</td>\n",
              "      <td>2.0</td>\n",
              "      <td>242.0</td>\n",
              "      <td>17.8</td>\n",
              "      <td>4.03</td>\n",
              "      <td>34.7</td>\n",
              "    </tr>\n",
              "    <tr>\n",
              "      <th>3</th>\n",
              "      <td>3</td>\n",
              "      <td>0.03237</td>\n",
              "      <td>0.0</td>\n",
              "      <td>2.18</td>\n",
              "      <td>0.0</td>\n",
              "      <td>0.458</td>\n",
              "      <td>6.998</td>\n",
              "      <td>45.8</td>\n",
              "      <td>6.0622</td>\n",
              "      <td>3.0</td>\n",
              "      <td>222.0</td>\n",
              "      <td>18.7</td>\n",
              "      <td>2.94</td>\n",
              "      <td>33.4</td>\n",
              "    </tr>\n",
              "    <tr>\n",
              "      <th>4</th>\n",
              "      <td>4</td>\n",
              "      <td>0.06905</td>\n",
              "      <td>0.0</td>\n",
              "      <td>2.18</td>\n",
              "      <td>0.0</td>\n",
              "      <td>0.458</td>\n",
              "      <td>7.147</td>\n",
              "      <td>54.2</td>\n",
              "      <td>6.0622</td>\n",
              "      <td>3.0</td>\n",
              "      <td>222.0</td>\n",
              "      <td>18.7</td>\n",
              "      <td>5.33</td>\n",
              "      <td>36.2</td>\n",
              "    </tr>\n",
              "  </tbody>\n",
              "</table>\n",
              "</div>\n",
              "      <button class=\"colab-df-convert\" onclick=\"convertToInteractive('df-3f0b0ad5-88d0-4fd6-91df-e97813dbb52e')\"\n",
              "              title=\"Convert this dataframe to an interactive table.\"\n",
              "              style=\"display:none;\">\n",
              "        \n",
              "  <svg xmlns=\"http://www.w3.org/2000/svg\" height=\"24px\"viewBox=\"0 0 24 24\"\n",
              "       width=\"24px\">\n",
              "    <path d=\"M0 0h24v24H0V0z\" fill=\"none\"/>\n",
              "    <path d=\"M18.56 5.44l.94 2.06.94-2.06 2.06-.94-2.06-.94-.94-2.06-.94 2.06-2.06.94zm-11 1L8.5 8.5l.94-2.06 2.06-.94-2.06-.94L8.5 2.5l-.94 2.06-2.06.94zm10 10l.94 2.06.94-2.06 2.06-.94-2.06-.94-.94-2.06-.94 2.06-2.06.94z\"/><path d=\"M17.41 7.96l-1.37-1.37c-.4-.4-.92-.59-1.43-.59-.52 0-1.04.2-1.43.59L10.3 9.45l-7.72 7.72c-.78.78-.78 2.05 0 2.83L4 21.41c.39.39.9.59 1.41.59.51 0 1.02-.2 1.41-.59l7.78-7.78 2.81-2.81c.8-.78.8-2.07 0-2.86zM5.41 20L4 18.59l7.72-7.72 1.47 1.35L5.41 20z\"/>\n",
              "  </svg>\n",
              "      </button>\n",
              "      \n",
              "  <style>\n",
              "    .colab-df-container {\n",
              "      display:flex;\n",
              "      flex-wrap:wrap;\n",
              "      gap: 12px;\n",
              "    }\n",
              "\n",
              "    .colab-df-convert {\n",
              "      background-color: #E8F0FE;\n",
              "      border: none;\n",
              "      border-radius: 50%;\n",
              "      cursor: pointer;\n",
              "      display: none;\n",
              "      fill: #1967D2;\n",
              "      height: 32px;\n",
              "      padding: 0 0 0 0;\n",
              "      width: 32px;\n",
              "    }\n",
              "\n",
              "    .colab-df-convert:hover {\n",
              "      background-color: #E2EBFA;\n",
              "      box-shadow: 0px 1px 2px rgba(60, 64, 67, 0.3), 0px 1px 3px 1px rgba(60, 64, 67, 0.15);\n",
              "      fill: #174EA6;\n",
              "    }\n",
              "\n",
              "    [theme=dark] .colab-df-convert {\n",
              "      background-color: #3B4455;\n",
              "      fill: #D2E3FC;\n",
              "    }\n",
              "\n",
              "    [theme=dark] .colab-df-convert:hover {\n",
              "      background-color: #434B5C;\n",
              "      box-shadow: 0px 1px 3px 1px rgba(0, 0, 0, 0.15);\n",
              "      filter: drop-shadow(0px 1px 2px rgba(0, 0, 0, 0.3));\n",
              "      fill: #FFFFFF;\n",
              "    }\n",
              "  </style>\n",
              "\n",
              "      <script>\n",
              "        const buttonEl =\n",
              "          document.querySelector('#df-3f0b0ad5-88d0-4fd6-91df-e97813dbb52e button.colab-df-convert');\n",
              "        buttonEl.style.display =\n",
              "          google.colab.kernel.accessAllowed ? 'block' : 'none';\n",
              "\n",
              "        async function convertToInteractive(key) {\n",
              "          const element = document.querySelector('#df-3f0b0ad5-88d0-4fd6-91df-e97813dbb52e');\n",
              "          const dataTable =\n",
              "            await google.colab.kernel.invokeFunction('convertToInteractive',\n",
              "                                                     [key], {});\n",
              "          if (!dataTable) return;\n",
              "\n",
              "          const docLinkHtml = 'Like what you see? Visit the ' +\n",
              "            '<a target=\"_blank\" href=https://colab.research.google.com/notebooks/data_table.ipynb>data table notebook</a>'\n",
              "            + ' to learn more about interactive tables.';\n",
              "          element.innerHTML = '';\n",
              "          dataTable['output_type'] = 'display_data';\n",
              "          await google.colab.output.renderOutput(dataTable, element);\n",
              "          const docLink = document.createElement('div');\n",
              "          docLink.innerHTML = docLinkHtml;\n",
              "          element.appendChild(docLink);\n",
              "        }\n",
              "      </script>\n",
              "    </div>\n",
              "  </div>\n",
              "  "
            ]
          },
          "metadata": {},
          "execution_count": 13
        }
      ]
    },
    {
      "cell_type": "markdown",
      "source": [
        "### **Let's turn to the main tasks of this project now!**"
      ],
      "metadata": {
        "id": "EkugOVG3a4eR"
      }
    },
    {
      "cell_type": "markdown",
      "source": [
        "# Task 4 : Generate Descriptive Statistics and Visualizations"
      ],
      "metadata": {
        "id": "XU9ph8fFbTbT"
      }
    },
    {
      "cell_type": "markdown",
      "source": [
        "### **Now, we need to visualize the Boston dataset! It is very helpful to understand the dataset. So, Let't dive into it!**"
      ],
      "metadata": {
        "id": "D1kSPoPAbZI8"
      }
    },
    {
      "cell_type": "markdown",
      "source": [
        "### Our specific task to do is like followings:\n",
        "- For the \"Median value of owner-occupied homes\" provide a boxplot\n",
        "\n",
        "- Provide a  bar plot for the Charles river variable\n",
        "\n",
        "- Provide a boxplot for the MEDV variable vs the AGE variable. (Discretize the age variable into three groups of 35 years and younger, between 35 and 70 years and 70 years and older)\n",
        "\n",
        "- Provide a scatter plot to show the relationship between Nitric oxide concentrations and the proportion of non-retail business acres per town. What can you say about the relationship?\n",
        "\n",
        "- Create a histogram for the pupil to teacher ratio variable"
      ],
      "metadata": {
        "id": "_ZqRikIxcM-d"
      }
    },
    {
      "cell_type": "markdown",
      "source": [
        "# Boxplot for \"Median value of owner-occupied homes\""
      ],
      "metadata": {
        "id": "h-NjguxYcsdZ"
      }
    },
    {
      "cell_type": "code",
      "source": [
        "ax = sns.boxplot(y='MEDV', data=boston)\n",
        "ax.set_title('Median value of owner-occupied homes')\n",
        "plt.show()"
      ],
      "metadata": {
        "colab": {
          "base_uri": "https://localhost:8080/",
          "height": 433
        },
        "id": "YYFXXSgpatsp",
        "outputId": "c93ef6fd-0b29-45ff-ca8e-e851b87d34ff"
      },
      "execution_count": 14,
      "outputs": [
        {
          "output_type": "display_data",
          "data": {
            "text/plain": [
              "<Figure size 640x480 with 1 Axes>"
            ],
            "image/png": "[encoded data removed]"
          },
          "metadata": {}
        }
      ]
    },
    {
      "cell_type": "markdown",
      "source": [
        "# Bar plot for \"the Charles river variable\""
      ],
      "metadata": {
        "id": "Hn5sStCNc34f"
      }
    },
    {
      "cell_type": "code",
      "source": [
        "sns.catplot(x='CHAS', kind='count', data=boston)\n",
        "plt.title('Bar plot for the Charles river variable')\n",
        "plt.show()"
      ],
      "metadata": {
        "colab": {
          "base_uri": "https://localhost:8080/",
          "height": 529
        },
        "id": "ITohwmqbc_I7",
        "outputId": "ae4d243a-98c6-408d-aa45-17f38787b05d"
      },
      "execution_count": 15,
      "outputs": [
        {
          "output_type": "display_data",
          "data": {
            "text/plain": [
              "<Figure size 500x500 with 1 Axes>"
            ],
            "image/png": "[encoded data removed]"
          },
          "metadata": {}
        }
      ]
    },
    {
      "cell_type": "markdown",
      "source": [
        "# Boxplot for \"the MEDV variable vs the AGE variable\""
      ],
      "metadata": {
        "id": "2KRw6s2KdDNr"
      }
    },
    {
      "cell_type": "markdown",
      "source": [
        "**First, we need to create new columns to divide the age groups. Let's check the age column first.**"
      ],
      "metadata": {
        "id": "t5wvBFgCewVR"
      }
    },
    {
      "cell_type": "code",
      "source": [
        "boston['AGE']"
      ],
      "metadata": {
        "colab": {
          "base_uri": "https://localhost:8080/"
        },
        "id": "xRr3CgqcdFQT",
        "outputId": "a87ff89d-42f0-4b64-e649-168715dd7ab3"
      },
      "execution_count": 18,
      "outputs": [
        {
          "output_type": "execute_result",
          "data": {
            "text/plain": [
              "0      65.2\n",
              "1      78.9\n",
              "2      61.1\n",
              "3      45.8\n",
              "4      54.2\n",
              "       ... \n",
              "501    69.1\n",
              "502    76.7\n",
              "503    91.0\n",
              "504    89.3\n",
              "505    80.8\n",
              "Name: AGE, Length: 506, dtype: float64"
            ]
          },
          "metadata": {},
          "execution_count": 18
        }
      ]
    },
    {
      "cell_type": "markdown",
      "source": [
        "**Let's create the new columns \"AGE_GROUP\"**"
      ],
      "metadata": {
        "id": "VRv7dc0Pe_Lo"
      }
    },
    {
      "cell_type": "code",
      "source": [
        "boston[\"AGE_GROUP\"]=0"
      ],
      "metadata": {
        "id": "6y5D8g8Oe70w"
      },
      "execution_count": 20,
      "outputs": []
    },
    {
      "cell_type": "markdown",
      "source": [
        "**Then, by using simple loops, let's fill in the AGE_GROUP**"
      ],
      "metadata": {
        "id": "MrITdFm2fGn6"
      }
    },
    {
      "cell_type": "code",
      "source": [
        "for i in boston.index:\n",
        "    if boston.at[i, \"AGE\"] <= 35:\n",
        "        boston.at[i, 'AGE_GROUP'] = 0\n",
        "    elif boston.at[i, \"AGE\"] > 35:\n",
        "        boston.at[i, 'AGE_GROUP'] = 1"
      ],
      "metadata": {
        "id": "7LhVM81qfNEt"
      },
      "execution_count": 21,
      "outputs": []
    },
    {
      "cell_type": "code",
      "source": [
        "for i in boston.index:\n",
        "    if boston.at[i, \"AGE\"] >= 70:\n",
        "        boston.at[i, 'AGE_GROUP'] = 2"
      ],
      "metadata": {
        "id": "fGlKzRvQfVnt"
      },
      "execution_count": 22,
      "outputs": []
    },
    {
      "cell_type": "markdown",
      "source": [
        "**Let's check the loop works appropriately, then the unique data must be 0, 1 and 2**"
      ],
      "metadata": {
        "id": "dBhZCpZyfoai"
      }
    },
    {
      "cell_type": "code",
      "source": [
        "print(boston['AGE_GROUP'].unique())"
      ],
      "metadata": {
        "colab": {
          "base_uri": "https://localhost:8080/"
        },
        "id": "gCcEVQD-fZla",
        "outputId": "ccacf83b-864f-4e01-f017-1648dfad2215"
      },
      "execution_count": 33,
      "outputs": [
        {
          "output_type": "stream",
          "name": "stdout",
          "text": [
            "[1 2 0]\n"
          ]
        }
      ]
    },
    {
      "cell_type": "markdown",
      "source": [
        "**Finally, let't visualize \"AGE_GROUP\" between \"MEDV\" by using Boxplot**"
      ],
      "metadata": {
        "id": "D5g7bUmof7WE"
      }
    },
    {
      "cell_type": "code",
      "source": [
        "ax = sns.boxplot(x=\"AGE_GROUP\", y=\"MEDV\", data=boston)\n",
        "ax.set_title('AGE Group and MEDV')\n",
        "plt.show()"
      ],
      "metadata": {
        "colab": {
          "base_uri": "https://localhost:8080/",
          "height": 472
        },
        "id": "8uHT6wfVgIdv",
        "outputId": "cff7a33f-d104-4f76-a1e2-4165588271f9"
      },
      "execution_count": 34,
      "outputs": [
        {
          "output_type": "display_data",
          "data": {
            "text/plain": [
              "<Figure size 640x480 with 1 Axes>"
            ],
            "image/png": "[encoded data removed]"
          },
          "metadata": {}
        }
      ]
    },
    {
      "cell_type": "markdown",
      "source": [
        "**AGE_GROUP 0 : under 35 years old**\n",
        "\n",
        "**AGE_GROUP 1 : over 35 and under 70 years old**\n",
        "\n",
        "**AGE_GROUP 2 : over 70 years old**"
      ],
      "metadata": {
        "id": "FuFOmGvDgTn1"
      }
    },
    {
      "cell_type": "markdown",
      "source": [
        "# Scatter plot to \"show the relationship between Nitric oxide concentrations and the proportion of non-retail business acres per town\"\n",
        "# What can you say about the relationship?"
      ],
      "metadata": {
        "id": "Pl2gcQtSdIpS"
      }
    },
    {
      "cell_type": "code",
      "source": [
        "ax = sns.scatterplot(x='NOX', y='INDUS', data=boston)\n",
        "plt.title('Nitric oxide concentrations and non-retail')\n",
        "plt.show()"
      ],
      "metadata": {
        "colab": {
          "base_uri": "https://localhost:8080/",
          "height": 472
        },
        "id": "kZX0fJ2zd5gN",
        "outputId": "e6ae88bf-41c3-4f44-8127-715b5265ed14"
      },
      "execution_count": 35,
      "outputs": [
        {
          "output_type": "display_data",
          "data": {
            "text/plain": [
              "<Figure size 640x480 with 1 Axes>"
            ],
            "image/png": "[encoded data removed]"
          },
          "metadata": {}
        }
      ]
    },
    {
      "cell_type": "markdown",
      "source": [
        "# Analysis?"
      ],
      "metadata": {
        "id": "oEbhfmvYhU7f"
      }
    },
    {
      "cell_type": "markdown",
      "source": [
        "- The scatter plot suggests the presence of a moderate to high positive correlation between the INDUS variable and NOX variable, as the data appears to follow an upward trend.\n",
        "\n",
        "- However, in order to obtain a more thorough understanding of the relationship between these variables, it is advisable to conduct a correlation test such as the Pearson correlation.\n",
        "\n",
        "- This test will provide additional insights and confirm the strength and significance of the association between the INDUS and NOX variables.\n",
        "\n",
        "- By performing the correlation test, a more detailed understanding of the relationship between these variables can be obtained."
      ],
      "metadata": {
        "id": "xjKqAMYohO8e"
      }
    },
    {
      "cell_type": "markdown",
      "source": [
        "# Histogram for \"the pupil to teacher ratio variable\""
      ],
      "metadata": {
        "id": "BcJhKoGxd-WS"
      }
    },
    {
      "cell_type": "code",
      "source": [
        "boston.hist(column = ['PTRATIO'])\n",
        "plt.xlabel('Pupil to techaer ratio')\n",
        "plt.ylabel('Num')\n",
        "plt.title('Histogram for the pupil to teacher ratio variable')\n",
        "plt.show()"
      ],
      "metadata": {
        "colab": {
          "base_uri": "https://localhost:8080/",
          "height": 472
        },
        "id": "Z90wvChheBPc",
        "outputId": "db807c0a-2c9c-4446-8014-267c1dcb9d4b"
      },
      "execution_count": 36,
      "outputs": [
        {
          "output_type": "display_data",
          "data": {
            "text/plain": [
              "<Figure size 640x480 with 1 Axes>"
            ],
            "image/png": "[encoded data removed]"
          },
          "metadata": {}
        }
      ]
    },
    {
      "cell_type": "markdown",
      "source": [
        "# Task 5 : Use the appropriate tests to answer the questions provided."
      ],
      "metadata": {
        "id": "vW4WoRtoiLol"
      }
    },
    {
      "cell_type": "markdown",
      "source": [
        "# Instruction\n",
        "\n",
        "**For each of the following questions;**\n",
        "\n",
        "- Is there a significant difference in median value of houses bounded by the Charles river or not? (T-test for independent samples)\n",
        "\n",
        "- Is there a difference in Median values of houses (MEDV) for each proportion of owner occupied units built prior to 1940 (AGE)? (ANOVA)\n",
        "\n",
        "- Can we conclude that there is no relationship between Nitric oxide concentrations and proportion of non-retail business acres per town? (Pearson Correlation)\n",
        "\n",
        "- What is the impact of an additional weighted distance  to the five Boston employment centres on the median value of owner occupied homes? (Regression analysis)\n",
        "\n",
        "**Be sure to:**\n",
        "\n",
        "- State your hypothesis.\n",
        "\n",
        "- Use α = 0.05\n",
        "\n",
        "- Perform the test Statistics.\n",
        "\n",
        "- State the conclusion from the test."
      ],
      "metadata": {
        "id": "mC6T8IIPiSy-"
      }
    },
    {
      "cell_type": "markdown",
      "source": [
        "### 1. Is there a significant difference in median value of houses bounded by the Charles river or not?"
      ],
      "metadata": {
        "id": "z761t9yTjjCK"
      }
    },
    {
      "cell_type": "markdown",
      "source": [
        "### Hypothesis:\n",
        "\n",
        "- Null Hypothesis (H0): There is no significant difference in the median value of houses bounded by the Charles river.\n",
        "- Alternative Hypothesis (H1): There is a significant difference in the median value of houses bounded by the Charles river."
      ],
      "metadata": {
        "id": "DGKn3jpvlPkG"
      }
    },
    {
      "cell_type": "code",
      "source": [
        "from scipy.stats import ttest_ind\n",
        "\n",
        "#Extract MEDV values for houses bounded and not bounded by the Charles river\n",
        "\n",
        "bounded_by_charles = boston[boston['CHAS'] == 1]['MEDV']\n",
        "not_bounded_by_charles = boston[boston['CHAS'] == 0]['MEDV']\n"
      ],
      "metadata": {
        "id": "WkUB-VB3h_N-"
      },
      "execution_count": 52,
      "outputs": []
    },
    {
      "cell_type": "code",
      "source": [
        "#Perform independent t-test\n",
        "\n",
        "t_statistic, p_value = ttest_ind(bounded_by_charles, not_bounded_by_charles)"
      ],
      "metadata": {
        "id": "pA9FIAzllhor"
      },
      "execution_count": 55,
      "outputs": []
    },
    {
      "cell_type": "code",
      "source": [
        "#Compare p-value with significance level (alpha)\n",
        "\n",
        "alpha = 0.05\n",
        "if p_value < alpha:\n",
        "    conclusion = \"Reject the null hypothesis. There is a significant difference in the median value of houses bounded by the Charles river.\"\n",
        "else:\n",
        "    conclusion = \"Fail to reject the null hypothesis. There is no significant difference in the median value of houses bounded by the Charles river.\""
      ],
      "metadata": {
        "id": "JN9j-74sj5Ao"
      },
      "execution_count": 56,
      "outputs": []
    },
    {
      "cell_type": "code",
      "source": [
        "print(conclusion)"
      ],
      "metadata": {
        "colab": {
          "base_uri": "https://localhost:8080/"
        },
        "id": "oil_7GgNj2EA",
        "outputId": "bd2eccd1-1ce0-4525-fb35-626de68ea93f"
      },
      "execution_count": 57,
      "outputs": [
        {
          "output_type": "stream",
          "name": "stdout",
          "text": [
            "Reject the null hypothesis. There is a significant difference in the median value of houses bounded by the Charles river.\n"
          ]
        }
      ]
    },
    {
      "cell_type": "markdown",
      "source": [
        "### 2. Is there a difference in Median values of houses (MEDV) for each proportion of owner occupied units built prior to 1940 (AGE)? (ANOVA)"
      ],
      "metadata": {
        "id": "WCe22_4skFe0"
      }
    },
    {
      "cell_type": "markdown",
      "source": [
        "### Hypothesis:\n",
        "\n",
        "- Null Hypothesis (H0): There is no difference in median values of houses for each proportion of owner-occupied units built prior to 1940.\n",
        "\n",
        "- Alternative Hypothesis (H1): There is a difference in median values of houses for each proportion of owner-occupied units built prior to 1940."
      ],
      "metadata": {
        "id": "OfLunjsBkpqs"
      }
    },
    {
      "cell_type": "code",
      "source": [
        "from scipy.stats import f_oneway\n",
        "\n",
        "#Group MEDV values based on AGE categories\n",
        "\n",
        "age_groups = []\n",
        "for age_category in boston['AGE_GROUP'].unique():\n",
        "    age_groups.append(boston[boston['AGE_GROUP'] == age_category]['MEDV'])\n"
      ],
      "metadata": {
        "id": "TywEwIYgjcYG"
      },
      "execution_count": 58,
      "outputs": []
    },
    {
      "cell_type": "code",
      "source": [
        "#Perform one-way ANOVA\n",
        "\n",
        "f_statistic, p_value = f_oneway(*age_groups)"
      ],
      "metadata": {
        "id": "eHSklE44kgh6"
      },
      "execution_count": 59,
      "outputs": []
    },
    {
      "cell_type": "code",
      "source": [
        "#Compare p-value with significance level (alpha)\n",
        "\n",
        "alpha = 0.05\n",
        "if p_value < alpha:\n",
        "    conclusion = \"Reject the null hypothesis. There is a difference in median values of houses for each proportion of owner-occupied units built prior to 1940.\"\n",
        "else:\n",
        "    conclusion = \"Fail to reject the null hypothesis. There is no difference in median values of houses for each proportion of owner-occupied units built prior to 1940.\"\n",
        "\n",
        "print(conclusion)"
      ],
      "metadata": {
        "colab": {
          "base_uri": "https://localhost:8080/"
        },
        "id": "LqF9rGuHkdfK",
        "outputId": "cf504449-ead5-4b7b-e451-de4435ac5ec1"
      },
      "execution_count": 60,
      "outputs": [
        {
          "output_type": "stream",
          "name": "stdout",
          "text": [
            "Reject the null hypothesis. There is a difference in median values of houses for each proportion of owner-occupied units built prior to 1940.\n"
          ]
        }
      ]
    },
    {
      "cell_type": "markdown",
      "source": [
        "### 3. Can we conclude that there is no relationship between Nitric oxide concentrations and proportion of non-retail business acres per town? (Pearson Correlation))"
      ],
      "metadata": {
        "id": "uqOs5s5llGNd"
      }
    },
    {
      "cell_type": "markdown",
      "source": [
        "### Hypothesis:\n",
        "\n",
        "- Null Hypothesis (H0): There is no relationship between Nitric oxide concentrations and the proportion of non-retail business acres per town.\n",
        "- Alternative Hypothesis (H1): There is a relationship between Nitric oxide concentrations and the proportion of non-retail business acres per town."
      ],
      "metadata": {
        "id": "gtgtHXMQlUHF"
      }
    },
    {
      "cell_type": "code",
      "source": [
        "from scipy.stats import pearsonr\n",
        "\n",
        "#Extract NOX and INDUS values\n",
        "\n",
        "nox = boston['NOX']\n",
        "indus = boston['INDUS']\n"
      ],
      "metadata": {
        "id": "ICEfTVC3kTAt"
      },
      "execution_count": 61,
      "outputs": []
    },
    {
      "cell_type": "code",
      "source": [
        "#Perform Pearson correlation\n",
        "\n",
        "correlation, p_value = pearsonr(nox, indus)"
      ],
      "metadata": {
        "id": "gHRtWJy2lavn"
      },
      "execution_count": 62,
      "outputs": []
    },
    {
      "cell_type": "code",
      "source": [
        "print(scipy.stats.pearsonr(boston['NOX'], boston['INDUS']))"
      ],
      "metadata": {
        "colab": {
          "base_uri": "https://localhost:8080/"
        },
        "id": "wL4IaPp_lvbu",
        "outputId": "fd46e4dd-0d9a-4545-b8cf-4cc445056ce0"
      },
      "execution_count": 65,
      "outputs": [
        {
          "output_type": "stream",
          "name": "stdout",
          "text": [
            "PearsonRResult(statistic=0.7636514469209151, pvalue=7.913361061239527e-98)\n"
          ]
        }
      ]
    },
    {
      "cell_type": "code",
      "source": [
        "#Compare p-value with significance level (alpha)\n",
        "\n",
        "alpha = 0.05\n",
        "if p_value < alpha:\n",
        "    conclusion = \"Reject the null hypothesis. There is a relationship between Nitric oxide concentrations and the proportion of non-retail business acres per town.\"\n",
        "else:\n",
        "    conclusion = \"Fail to reject the null hypothesis. There is no relationship between Nitric oxide concentrations and the proportion of non-retail business acres per town.\"\n",
        "\n",
        "print(conclusion)"
      ],
      "metadata": {
        "colab": {
          "base_uri": "https://localhost:8080/"
        },
        "id": "O2xn6xxOla_T",
        "outputId": "40dcd576-20a3-4823-8c18-6683eae82335"
      },
      "execution_count": 63,
      "outputs": [
        {
          "output_type": "stream",
          "name": "stdout",
          "text": [
            "Reject the null hypothesis. There is a relationship between Nitric oxide concentrations and the proportion of non-retail business acres per town.\n"
          ]
        }
      ]
    },
    {
      "cell_type": "markdown",
      "source": [
        "### 4. What is the impact of an additional weighted distance to the five Boston employment centres on the median value of owner occupied homes? (Regression analysis)"
      ],
      "metadata": {
        "id": "Kd9JUekJl4oz"
      }
    },
    {
      "cell_type": "code",
      "source": [
        "import statsmodels.api as sm\n",
        "\n",
        "#Set up the dependent and independent variables\n",
        "\n",
        "X = boston['DIS']  # Weighted distance to the five Boston employment centres\n",
        "y = boston['MEDV']  # Median value of owner-occupied homes"
      ],
      "metadata": {
        "id": "7RDh_oRqlpFF"
      },
      "execution_count": 67,
      "outputs": []
    },
    {
      "cell_type": "code",
      "source": [
        "#Add a constant term to the independent variable\n",
        "\n",
        "X = sm.add_constant(X)"
      ],
      "metadata": {
        "id": "j9Ber4l6mNCU"
      },
      "execution_count": 68,
      "outputs": []
    },
    {
      "cell_type": "code",
      "source": [
        "#Fit the linear regression model\n",
        "\n",
        "model = sm.OLS(y, X).fit()"
      ],
      "metadata": {
        "id": "1HY04OqdmF8p"
      },
      "execution_count": 69,
      "outputs": []
    },
    {
      "cell_type": "code",
      "source": [
        "#Print the model summary\n",
        "\n",
        "print(model.summary())"
      ],
      "metadata": {
        "colab": {
          "base_uri": "https://localhost:8080/"
        },
        "id": "Vjl0l2_EmTvN",
        "outputId": "60e45f09-b9c3-4646-9516-9834c413a7f2"
      },
      "execution_count": 70,
      "outputs": [
        {
          "output_type": "stream",
          "name": "stdout",
          "text": [
            "                            OLS Regression Results                            \n",
            "==============================================================================\n",
            "Dep. Variable:                   MEDV   R-squared:                       0.062\n",
            "Model:                            OLS   Adj. R-squared:                  0.061\n",
            "Method:                 Least Squares   F-statistic:                     33.58\n",
            "Date:                Mon, 26 Jun 2023   Prob (F-statistic):           1.21e-08\n",
            "Time:                        16:46:24   Log-Likelihood:                -1823.9\n",
            "No. Observations:                 506   AIC:                             3652.\n",
            "Df Residuals:                     504   BIC:                             3660.\n",
            "Df Model:                           1                                         \n",
            "Covariance Type:            nonrobust                                         \n",
            "==============================================================================\n",
            "                 coef    std err          t      P>|t|      [0.025      0.975]\n",
            "------------------------------------------------------------------------------\n",
            "const         18.3901      0.817     22.499      0.000      16.784      19.996\n",
            "DIS            1.0916      0.188      5.795      0.000       0.722       1.462\n",
            "==============================================================================\n",
            "Omnibus:                      139.779   Durbin-Watson:                   0.570\n",
            "Prob(Omnibus):                  0.000   Jarque-Bera (JB):              305.104\n",
            "Skew:                           1.466   Prob(JB):                     5.59e-67\n",
            "Kurtosis:                       5.424   Cond. No.                         9.32\n",
            "==============================================================================\n",
            "\n",
            "Notes:\n",
            "[1] Standard Errors assume that the covariance matrix of the errors is correctly specified.\n"
          ]
        }
      ]
    },
    {
      "cell_type": "markdown",
      "source": [
        "# Thank you for reviewing my project!\n",
        "\n",
        "# This is end of the document!\n",
        "\n",
        "# Hope this education helps you build a successful career."
      ],
      "metadata": {
        "id": "lOK0kjN6mkG9"
      }
    },
    {
      "cell_type": "code",
      "source": [],
      "metadata": {
        "id": "t81hdxjImWk2"
      },
      "execution_count": null,
      "outputs": []
    }
  ],
  "metadata": {
    "kernelspec": {
      "display_name": "Python",
      "language": "python",
      "name": "conda-env-python-py"
    },
    "language_info": {
      "name": ""
    },
    "colab": {
      "provenance": []
    }
  },
  "nbformat": 4,
  "nbformat_minor": 0
}